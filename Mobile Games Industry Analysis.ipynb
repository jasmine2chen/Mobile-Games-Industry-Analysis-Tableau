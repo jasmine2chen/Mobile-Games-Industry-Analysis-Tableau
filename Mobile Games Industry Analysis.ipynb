{
 "cells": [
  {
   "cell_type": "code",
   "execution_count": 7,
   "metadata": {},
   "outputs": [],
   "source": [
    "import pandas as pd\n",
    "import numpy as np\n",
    "import re"
   ]
  },
  {
   "cell_type": "code",
   "execution_count": 2,
   "metadata": {},
   "outputs": [
    {
     "data": {
      "text/plain": [
       "(17007, 18)"
      ]
     },
     "execution_count": 2,
     "metadata": {},
     "output_type": "execute_result"
    }
   ],
   "source": [
    "df = pd.read_csv('/Users/jasminechen/Downloads/appstore_games.csv')\n",
    "df.shape"
   ]
  },
  {
   "cell_type": "code",
   "execution_count": 3,
   "metadata": {},
   "outputs": [
    {
     "name": "stdout",
     "output_type": "stream",
     "text": [
      "<class 'pandas.core.frame.DataFrame'>\n",
      "RangeIndex: 17007 entries, 0 to 17006\n",
      "Data columns (total 18 columns):\n",
      " #   Column                        Non-Null Count  Dtype  \n",
      "---  ------                        --------------  -----  \n",
      " 0   URL                           17007 non-null  object \n",
      " 1   ID                            17007 non-null  int64  \n",
      " 2   Name                          17007 non-null  object \n",
      " 3   Subtitle                      5261 non-null   object \n",
      " 4   Icon URL                      17007 non-null  object \n",
      " 5   Average User Rating           7561 non-null   float64\n",
      " 6   User Rating Count             7561 non-null   float64\n",
      " 7   Price                         16983 non-null  float64\n",
      " 8   In-app Purchases              7683 non-null   object \n",
      " 9   Description                   17007 non-null  object \n",
      " 10  Developer                     17007 non-null  object \n",
      " 11  Age Rating                    17007 non-null  object \n",
      " 12  Languages                     16947 non-null  object \n",
      " 13  Size                          17006 non-null  float64\n",
      " 14  Primary Genre                 17007 non-null  object \n",
      " 15  Genres                        17007 non-null  object \n",
      " 16  Original Release Date         17007 non-null  object \n",
      " 17  Current Version Release Date  17007 non-null  object \n",
      "dtypes: float64(4), int64(1), object(13)\n",
      "memory usage: 2.3+ MB\n"
     ]
    }
   ],
   "source": [
    "df.info()"
   ]
  },
  {
   "cell_type": "code",
   "execution_count": 4,
   "metadata": {},
   "outputs": [
    {
     "data": {
      "text/plain": [
       "0        0\n",
       "1        0\n",
       "2        0\n",
       "3        0\n",
       "4        0\n",
       "        ..\n",
       "17002    0\n",
       "17003    0\n",
       "17004    0\n",
       "17005    1\n",
       "17006    0\n",
       "Name: In-app Purchases, Length: 17007, dtype: int64"
      ]
     },
     "execution_count": 4,
     "metadata": {},
     "output_type": "execute_result"
    }
   ],
   "source": [
    "# fill In-app Purchases with 1 for valid values, 0 for nans\n",
    "df['In-app Purchases']=df['In-app Purchases'].apply(lambda x: 0 if pd.isnull(x) else 1)\n",
    "df['In-app Purchases']"
   ]
  },
  {
   "cell_type": "code",
   "execution_count": 5,
   "metadata": {},
   "outputs": [
    {
     "data": {
      "text/plain": [
       "0                       , , Puzzle\n",
       "1                        , , Board\n",
       "2                        , Board, \n",
       "3                       , , Puzzle\n",
       "4             , , Board, Education\n",
       "                   ...            \n",
       "17002    , Entertainment, Casual, \n",
       "17003                   , Family, \n",
       "17004                           , \n",
       "17005                   , , Action\n",
       "17006                   , , Puzzle\n",
       "Name: Sub_Genres, Length: 17007, dtype: object"
      ]
     },
     "execution_count": 5,
     "metadata": {},
     "output_type": "execute_result"
    }
   ],
   "source": [
    "# regex removing Games, Strategy\n",
    "df['Sub_Genres']=df['Genres'].apply(lambda x: x.replace('Games','').replace('Strategy','')).astype(str)\n",
    "df['Sub_Genres']"
   ]
  },
  {
   "cell_type": "code",
   "execution_count": 8,
   "metadata": {},
   "outputs": [
    {
     "data": {
      "text/plain": [
       "0               Puzzle\n",
       "1                Board\n",
       "2                Board\n",
       "3               Puzzle\n",
       "4                Board\n",
       "             ...      \n",
       "17002    Entertainment\n",
       "17003           Family\n",
       "17004           Others\n",
       "17005           Action\n",
       "17006           Puzzle\n",
       "Name: Sub_Genres, Length: 17007, dtype: object"
      ]
     },
     "execution_count": 8,
     "metadata": {},
     "output_type": "execute_result"
    }
   ],
   "source": [
    "# regex only fetch the first sub-genre\n",
    "df['Sub_Genres']=df['Sub_Genres'].apply(lambda x: re.match(r'\\W*(\\w[^,. !?\"]*)', x).groups()[0] if re.match(r'\\W*(\\w[^,. !?\"]*)', x) is not None else 'Others')\n",
    "df['Sub_Genres']"
   ]
  },
  {
   "cell_type": "code",
   "execution_count": 9,
   "metadata": {},
   "outputs": [
    {
     "data": {
      "text/html": [
       "<div>\n",
       "<style scoped>\n",
       "    .dataframe tbody tr th:only-of-type {\n",
       "        vertical-align: middle;\n",
       "    }\n",
       "\n",
       "    .dataframe tbody tr th {\n",
       "        vertical-align: top;\n",
       "    }\n",
       "\n",
       "    .dataframe thead th {\n",
       "        text-align: right;\n",
       "    }\n",
       "</style>\n",
       "<table border=\"1\" class=\"dataframe\">\n",
       "  <thead>\n",
       "    <tr style=\"text-align: right;\">\n",
       "      <th></th>\n",
       "      <th>Genres</th>\n",
       "      <th>Sub_Genres</th>\n",
       "    </tr>\n",
       "  </thead>\n",
       "  <tbody>\n",
       "    <tr>\n",
       "      <th>0</th>\n",
       "      <td>Games, Strategy, Puzzle</td>\n",
       "      <td>Puzzle</td>\n",
       "    </tr>\n",
       "    <tr>\n",
       "      <th>1</th>\n",
       "      <td>Games, Strategy, Board</td>\n",
       "      <td>Board</td>\n",
       "    </tr>\n",
       "    <tr>\n",
       "      <th>2</th>\n",
       "      <td>Games, Board, Strategy</td>\n",
       "      <td>Board</td>\n",
       "    </tr>\n",
       "    <tr>\n",
       "      <th>3</th>\n",
       "      <td>Games, Strategy, Puzzle</td>\n",
       "      <td>Puzzle</td>\n",
       "    </tr>\n",
       "    <tr>\n",
       "      <th>4</th>\n",
       "      <td>Games, Strategy, Board, Education</td>\n",
       "      <td>Board</td>\n",
       "    </tr>\n",
       "    <tr>\n",
       "      <th>...</th>\n",
       "      <td>...</td>\n",
       "      <td>...</td>\n",
       "    </tr>\n",
       "    <tr>\n",
       "      <th>17002</th>\n",
       "      <td>Games, Entertainment, Casual, Strategy</td>\n",
       "      <td>Entertainment</td>\n",
       "    </tr>\n",
       "    <tr>\n",
       "      <th>17003</th>\n",
       "      <td>Games, Family, Strategy</td>\n",
       "      <td>Family</td>\n",
       "    </tr>\n",
       "    <tr>\n",
       "      <th>17004</th>\n",
       "      <td>Games, Strategy</td>\n",
       "      <td>Others</td>\n",
       "    </tr>\n",
       "    <tr>\n",
       "      <th>17005</th>\n",
       "      <td>Games, Strategy, Action</td>\n",
       "      <td>Action</td>\n",
       "    </tr>\n",
       "    <tr>\n",
       "      <th>17006</th>\n",
       "      <td>Games, Strategy, Puzzle</td>\n",
       "      <td>Puzzle</td>\n",
       "    </tr>\n",
       "  </tbody>\n",
       "</table>\n",
       "<p>17007 rows × 2 columns</p>\n",
       "</div>"
      ],
      "text/plain": [
       "                                       Genres     Sub_Genres\n",
       "0                     Games, Strategy, Puzzle         Puzzle\n",
       "1                      Games, Strategy, Board          Board\n",
       "2                      Games, Board, Strategy          Board\n",
       "3                     Games, Strategy, Puzzle         Puzzle\n",
       "4           Games, Strategy, Board, Education          Board\n",
       "...                                       ...            ...\n",
       "17002  Games, Entertainment, Casual, Strategy  Entertainment\n",
       "17003                 Games, Family, Strategy         Family\n",
       "17004                         Games, Strategy         Others\n",
       "17005                 Games, Strategy, Action         Action\n",
       "17006                 Games, Strategy, Puzzle         Puzzle\n",
       "\n",
       "[17007 rows x 2 columns]"
      ]
     },
     "execution_count": 9,
     "metadata": {},
     "output_type": "execute_result"
    }
   ],
   "source": [
    "df[['Genres','Sub_Genres']]"
   ]
  },
  {
   "cell_type": "code",
   "execution_count": 76,
   "metadata": {},
   "outputs": [],
   "source": [
    "df.to_csv('/Users/jasminechen/Downloads/appstore_games_cleaned.csv')"
   ]
  },
  {
   "cell_type": "code",
   "execution_count": null,
   "metadata": {},
   "outputs": [],
   "source": []
  }
 ],
 "metadata": {
  "kernelspec": {
   "display_name": "Python (other-env)",
   "language": "python",
   "name": "other-env"
  },
  "language_info": {
   "codemirror_mode": {
    "name": "ipython",
    "version": 3
   },
   "file_extension": ".py",
   "mimetype": "text/x-python",
   "name": "python",
   "nbconvert_exporter": "python",
   "pygments_lexer": "ipython3",
   "version": "3.7.4"
  }
 },
 "nbformat": 4,
 "nbformat_minor": 2
}
